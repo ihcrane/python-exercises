{
 "cells": [
  {
   "cell_type": "code",
   "execution_count": 1,
   "id": "77d58d25",
   "metadata": {},
   "outputs": [
    {
     "name": "stdout",
     "output_type": "stream",
     "text": [
      "False\n",
      "True\n",
      "True\n",
      "False\n"
     ]
    }
   ],
   "source": [
    "#defining function\n",
    "def is_two(n):\n",
    "    #determining if input is 2 of any kind\n",
    "    if n == 2 or n == '2' or n == 'two':\n",
    "        #returning True if 2\n",
    "        return True\n",
    "    #returning False otherwise\n",
    "    else:\n",
    "        return False\n",
    "#testing function\n",
    "print(is_two(5))\n",
    "print(is_two(2))\n",
    "print(is_two('two'))\n",
    "print(is_two('hello'))"
   ]
  },
  {
   "cell_type": "code",
   "execution_count": 3,
   "id": "58d84136",
   "metadata": {},
   "outputs": [
    {
     "name": "stdout",
     "output_type": "stream",
     "text": [
      "False\n",
      "True\n",
      "True\n"
     ]
    }
   ],
   "source": [
    "#defining function\n",
    "def is_vowel(n):\n",
    "    #testing if input is a vowel and returning True if vowel\n",
    "    if n in '[aieouAIEOU]':\n",
    "        return True\n",
    "    #returning False otherwise\n",
    "    else:\n",
    "        return False\n",
    "#testing function  \n",
    "print(is_vowel('j'))\n",
    "print(is_vowel('i'))\n",
    "print(is_vowel('e'))"
   ]
  },
  {
   "cell_type": "code",
   "execution_count": 4,
   "id": "267125cb",
   "metadata": {},
   "outputs": [
    {
     "name": "stdout",
     "output_type": "stream",
     "text": [
      "True\n",
      "True\n",
      "False\n"
     ]
    }
   ],
   "source": [
    "#defining function\n",
    "def is_consonant(n):\n",
    "    #testing if input is a vowel and returning False \n",
    "    if is_vowel(n):\n",
    "        return False\n",
    "    #returning True if not a vowel\n",
    "    else:\n",
    "        return True\n",
    "#testing function  \n",
    "print(is_consonant('j'))\n",
    "print(is_consonant('h'))\n",
    "print(is_consonant('i'))"
   ]
  },
  {
   "cell_type": "code",
   "execution_count": 6,
   "id": "ba4d1442",
   "metadata": {},
   "outputs": [
    {
     "name": "stdout",
     "output_type": "stream",
     "text": [
      "igloo\n",
      "House\n"
     ]
    }
   ],
   "source": [
    "#defining function\n",
    "def capitalize_consonant(n):\n",
    "    #taking first letter of input and testing if consonant\n",
    "    if is_consonant(n[0]):\n",
    "        #capitalizing input and returning it\n",
    "        return(n.capitalize())\n",
    "    #otherwise return the word without capitalizing\n",
    "    else:\n",
    "        return(n)\n",
    "#testing function    \n",
    "print(capitalize_consonant('igloo'))\n",
    "print(capitalize_consonant('house'))"
   ]
  },
  {
   "cell_type": "code",
   "execution_count": 42,
   "id": "899086b5",
   "metadata": {},
   "outputs": [
    {
     "name": "stdout",
     "output_type": "stream",
     "text": [
      "3.6\n",
      "12.5\n",
      "200.0\n"
     ]
    }
   ],
   "source": [
    "#defining function\n",
    "def calculate_tip(tip_percentage, bill):\n",
    "    #mulitplying bill by tip percentage\n",
    "    amount = bill * tip_percentage\n",
    "    #return tip amount rounded to second decimal place\n",
    "    return round(amount, 2)\n",
    "\n",
    "#testing function\n",
    "print(calculate_tip(.18, 20))\n",
    "print(calculate_tip(.25, 50))\n",
    "print(calculate_tip(.25, 800))"
   ]
  },
  {
   "cell_type": "code",
   "execution_count": 44,
   "id": "a1945055",
   "metadata": {},
   "outputs": [
    {
     "name": "stdout",
     "output_type": "stream",
     "text": [
      "36.0\n",
      "83.0\n"
     ]
    }
   ],
   "source": [
    "#defining function\n",
    "def apply_discount(price, discount):\n",
    "    #subtracting the product of price and discount from the price\n",
    "    final_price = price - (price * discount)\n",
    "    #return final price after calculation\n",
    "    return final_price\n",
    "\n",
    "#testing function\n",
    "print(apply_discount(45, .20))\n",
    "print(apply_discount(100, .17))"
   ]
  },
  {
   "cell_type": "code",
   "execution_count": 18,
   "id": "bdf055db",
   "metadata": {},
   "outputs": [
    {
     "name": "stdout",
     "output_type": "stream",
     "text": [
      "5000\n",
      "17538\n"
     ]
    }
   ],
   "source": [
    "#defining function\n",
    "def handle_commas(n):\n",
    "    #removing commas\n",
    "    num = n.replace(',', '')\n",
    "    #return string without commas\n",
    "    return num\n",
    "#testing functions\n",
    "print(handle_commas('5,000'))\n",
    "print(handle_commas('17,538'))"
   ]
  },
  {
   "cell_type": "code",
   "execution_count": 22,
   "id": "610070af",
   "metadata": {},
   "outputs": [
    {
     "name": "stdout",
     "output_type": "stream",
     "text": [
      "A\n",
      "B\n",
      "F\n"
     ]
    }
   ],
   "source": [
    "#defining function\n",
    "def get_letter_grade(n):\n",
    "    #testing input through if statment for each grade starting at less than 60\n",
    "    if n <= 60:\n",
    "        return 'F'\n",
    "    elif n <= 70:\n",
    "        return 'D'\n",
    "    elif n <= 80:\n",
    "        return 'C'\n",
    "    elif n <= 90:\n",
    "        return 'B'\n",
    "    elif n <= 100:    #ending with up to 100\n",
    "        return 'A'\n",
    "\n",
    "#testing function\n",
    "print(get_letter_grade(97))\n",
    "print(get_letter_grade(88))\n",
    "print(get_letter_grade(43))"
   ]
  },
  {
   "cell_type": "code",
   "execution_count": 24,
   "id": "3a672784",
   "metadata": {},
   "outputs": [
    {
     "name": "stdout",
     "output_type": "stream",
     "text": [
      "pnppl\n",
      "gv\n"
     ]
    }
   ],
   "source": [
    "#defining function\n",
    "def remove_vowels(n):\n",
    "    #testing each letter of the input word\n",
    "    for i in n:\n",
    "        #determining if letter is a vowel\n",
    "        if is_vowel(i):\n",
    "            #if letter is vowel remove and reassing variable\n",
    "            n = n.replace(i, '')\n",
    "    #return string with no vowels\n",
    "    return n\n",
    "#testing function\n",
    "print(remove_vowels('pineapple'))\n",
    "print(remove_vowels('guava'))"
   ]
  },
  {
   "cell_type": "code",
   "execution_count": 34,
   "id": "d537a9ba",
   "metadata": {},
   "outputs": [
    {
     "name": "stdout",
     "output_type": "stream",
     "text": [
      "first_name\n",
      "codeup\n",
      "james_bond\n"
     ]
    }
   ],
   "source": [
    "#defining function\n",
    "def normalize_name(n):\n",
    "    #determing if any non alpha numeric characters\n",
    "    for i in n:\n",
    "        #then removing if applicable\n",
    "        if i in '?!@$%><.,':\n",
    "            n = n.replace(i, '')\n",
    "    #making string lowercase\n",
    "    n = n.lower()\n",
    "    #removing any leading or trailing white space\n",
    "    n = n.strip()\n",
    "    #replacing spaces between words an underscore\n",
    "    n = n.replace(' ', '_')\n",
    "    #return final string\n",
    "    return n\n",
    "    \n",
    "#testing function    \n",
    "print(normalize_name('   % first name '))\n",
    "print(normalize_name('codeup?'))\n",
    "print(normalize_name('James Bond'))"
   ]
  },
  {
   "cell_type": "code",
   "execution_count": 41,
   "id": "4c4a71c1",
   "metadata": {},
   "outputs": [
    {
     "name": "stdout",
     "output_type": "stream",
     "text": [
      "[1, 2, 3]\n",
      "[2, 7, 14]\n"
     ]
    }
   ],
   "source": [
    "#defining function\n",
    "def cumulative_sum(n):\n",
    "    #declaring variables\n",
    "    x = 0\n",
    "    new_list = []\n",
    "    #adding each number of list to each other one at a time\n",
    "    for i in n:\n",
    "        x += i\n",
    "        #after adding each number to each other appending to a new list\n",
    "        new_list.append(x)\n",
    "    #return the new list\n",
    "    return new_list\n",
    "#testing function\n",
    "print(cumulative_sum([1, 1, 1]))\n",
    "print(cumulative_sum([2, 5, 7]))"
   ]
  },
  {
   "cell_type": "code",
   "execution_count": null,
   "id": "484ee8af",
   "metadata": {},
   "outputs": [],
   "source": []
  }
 ],
 "metadata": {
  "kernelspec": {
   "display_name": "Python 3 (ipykernel)",
   "language": "python",
   "name": "python3"
  },
  "language_info": {
   "codemirror_mode": {
    "name": "ipython",
    "version": 3
   },
   "file_extension": ".py",
   "mimetype": "text/x-python",
   "name": "python",
   "nbconvert_exporter": "python",
   "pygments_lexer": "ipython3",
   "version": "3.9.13"
  }
 },
 "nbformat": 4,
 "nbformat_minor": 5
}
