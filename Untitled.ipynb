{
 "cells": [
  {
   "cell_type": "code",
   "execution_count": 1,
   "id": "e7e5614d",
   "metadata": {},
   "outputs": [],
   "source": [
    "def converter(meas, metric=True):\n",
    "    if metric:\n",
    "        num_inches = meas / 2.54\n",
    "        return num_inches\n",
    "    else:\n",
    "        num_cms = meas * 2.54\n",
    "        return num_cms"
   ]
  },
  {
   "cell_type": "code",
   "execution_count": 2,
   "id": "81e9f126",
   "metadata": {},
   "outputs": [
    {
     "data": {
      "text/plain": [
       "72.44094488188976"
      ]
     },
     "execution_count": 2,
     "metadata": {},
     "output_type": "execute_result"
    }
   ],
   "source": [
    "converter(184)"
   ]
  },
  {
   "cell_type": "code",
   "execution_count": 3,
   "id": "b2491188",
   "metadata": {},
   "outputs": [
    {
     "data": {
      "text/plain": [
       "187.96"
      ]
     },
     "execution_count": 3,
     "metadata": {},
     "output_type": "execute_result"
    }
   ],
   "source": [
    "converter(74, False)"
   ]
  },
  {
   "cell_type": "code",
   "execution_count": 4,
   "id": "9f22dd37",
   "metadata": {},
   "outputs": [
    {
     "data": {
      "text/plain": [
       "74.01574803149606"
      ]
     },
     "execution_count": 4,
     "metadata": {},
     "output_type": "execute_result"
    }
   ],
   "source": [
    "converter(188)"
   ]
  },
  {
   "cell_type": "code",
   "execution_count": 28,
   "id": "ce61dc26",
   "metadata": {},
   "outputs": [],
   "source": [
    "def max_finder(my_list):\n",
    "    x = max(my_list)\n",
    "    return x"
   ]
  },
  {
   "cell_type": "code",
   "execution_count": 29,
   "id": "275b72aa",
   "metadata": {},
   "outputs": [
    {
     "data": {
      "text/plain": [
       "'your mom'"
      ]
     },
     "execution_count": 29,
     "metadata": {},
     "output_type": "execute_result"
    }
   ],
   "source": []
  },
  {
   "cell_type": "code",
   "execution_count": null,
   "id": "a12a52dd",
   "metadata": {},
   "outputs": [],
   "source": []
  }
 ],
 "metadata": {
  "kernelspec": {
   "display_name": "Python 3 (ipykernel)",
   "language": "python",
   "name": "python3"
  },
  "language_info": {
   "codemirror_mode": {
    "name": "ipython",
    "version": 3
   },
   "file_extension": ".py",
   "mimetype": "text/x-python",
   "name": "python",
   "nbconvert_exporter": "python",
   "pygments_lexer": "ipython3",
   "version": "3.9.13"
  }
 },
 "nbformat": 4,
 "nbformat_minor": 5
}
