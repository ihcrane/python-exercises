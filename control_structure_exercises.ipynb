{
 "cells": [
  {
   "cell_type": "code",
   "execution_count": 45,
   "id": "6a4ea551",
   "metadata": {},
   "outputs": [
    {
     "name": "stdout",
     "output_type": "stream",
     "text": [
      "Monday\n",
      "Today is Monday.\n"
     ]
    }
   ],
   "source": [
    "day_of_the_week = str(input())\n",
    "if day_of_the_week == 'Monday':\n",
    "    print(f'Today is {day_of_the_week}.')\n",
    "else:\n",
    "    print('Today is not Monday!')"
   ]
  },
  {
   "cell_type": "code",
   "execution_count": 43,
   "id": "d6472def",
   "metadata": {},
   "outputs": [
    {
     "name": "stdout",
     "output_type": "stream",
     "text": [
      "Today is a weekday.\n"
     ]
    }
   ],
   "source": [
    "if day_of_the_week == 'Saturday' or day_of_the_week == 'Sunday':\n",
    "    print('It is the weekend.')\n",
    "else:\n",
    "    print('Today is a weekday.')"
   ]
  },
  {
   "cell_type": "code",
   "execution_count": 15,
   "id": "c9296ef3",
   "metadata": {},
   "outputs": [
    {
     "name": "stdout",
     "output_type": "stream",
     "text": [
      "1425.0\n"
     ]
    }
   ],
   "source": [
    "hours_worked = 45\n",
    "hourly_rate = 30\n",
    "paycheck = 0\n",
    "overtime = 0\n",
    "if hours_worked > 40:\n",
    "    overtime = hours_worked - 40\n",
    "    hours_worked -= overtime\n",
    "\n",
    "paycheck = (hours_worked * hourly_rate) + (overtime * (hourly_rate * 1.5))\n",
    "print(paycheck)"
   ]
  },
  {
   "cell_type": "code",
   "execution_count": 18,
   "id": "d5c51dcd",
   "metadata": {},
   "outputs": [
    {
     "name": "stdout",
     "output_type": "stream",
     "text": [
      "5\n",
      "6\n",
      "7\n",
      "8\n",
      "9\n",
      "10\n",
      "11\n",
      "12\n",
      "13\n",
      "14\n",
      "15\n"
     ]
    }
   ],
   "source": [
    "i = 5\n",
    "while i <= 15:\n",
    "    print(i)\n",
    "    i += 1\n"
   ]
  },
  {
   "cell_type": "code",
   "execution_count": 19,
   "id": "1264f359",
   "metadata": {},
   "outputs": [
    {
     "name": "stdout",
     "output_type": "stream",
     "text": [
      "0\n",
      "2\n",
      "4\n",
      "6\n",
      "8\n",
      "10\n",
      "12\n",
      "14\n",
      "16\n",
      "18\n",
      "20\n",
      "22\n",
      "24\n",
      "26\n",
      "28\n",
      "30\n",
      "32\n",
      "34\n",
      "36\n",
      "38\n",
      "40\n",
      "42\n",
      "44\n",
      "46\n",
      "48\n",
      "50\n",
      "52\n",
      "54\n",
      "56\n",
      "58\n",
      "60\n",
      "62\n",
      "64\n",
      "66\n",
      "68\n",
      "70\n",
      "72\n",
      "74\n",
      "76\n",
      "78\n",
      "80\n",
      "82\n",
      "84\n",
      "86\n",
      "88\n",
      "90\n",
      "92\n",
      "94\n",
      "96\n",
      "98\n",
      "100\n"
     ]
    }
   ],
   "source": [
    "i = 0\n",
    "while i <= 100:\n",
    "    print(i)\n",
    "    i += 2"
   ]
  },
  {
   "cell_type": "code",
   "execution_count": 20,
   "id": "e60dea2b",
   "metadata": {},
   "outputs": [
    {
     "name": "stdout",
     "output_type": "stream",
     "text": [
      "100\n",
      "95\n",
      "90\n",
      "85\n",
      "80\n",
      "75\n",
      "70\n",
      "65\n",
      "60\n",
      "55\n",
      "50\n",
      "45\n",
      "40\n",
      "35\n",
      "30\n",
      "25\n",
      "20\n",
      "15\n",
      "10\n",
      "5\n",
      "0\n",
      "-5\n",
      "-10\n"
     ]
    }
   ],
   "source": [
    "i = 100\n",
    "while i >= -10:\n",
    "    print(i)\n",
    "    i -= 5"
   ]
  },
  {
   "cell_type": "code",
   "execution_count": 21,
   "id": "e5b63c21",
   "metadata": {},
   "outputs": [
    {
     "name": "stdout",
     "output_type": "stream",
     "text": [
      "2\n",
      "4\n",
      "16\n",
      "256\n",
      "65536\n"
     ]
    }
   ],
   "source": [
    "i = 2\n",
    "while i <= 1000000:\n",
    "    print(i)\n",
    "    i **= 2"
   ]
  },
  {
   "cell_type": "code",
   "execution_count": 23,
   "id": "6d06f0f3",
   "metadata": {},
   "outputs": [
    {
     "name": "stdout",
     "output_type": "stream",
     "text": [
      "100\n",
      "95\n",
      "90\n",
      "85\n",
      "80\n",
      "75\n",
      "70\n",
      "65\n",
      "60\n",
      "55\n",
      "50\n",
      "45\n",
      "40\n",
      "35\n",
      "30\n",
      "25\n",
      "20\n",
      "15\n",
      "10\n",
      "5\n"
     ]
    }
   ],
   "source": [
    "i = 100\n",
    "while i > 0:\n",
    "    print(i)\n",
    "    i -= 5"
   ]
  },
  {
   "cell_type": "code",
   "execution_count": 40,
   "id": "729e8d89",
   "metadata": {},
   "outputs": [
    {
     "name": "stdout",
     "output_type": "stream",
     "text": [
      "3\n",
      "3 x  1 = 3\n",
      "3 x  2 = 6\n",
      "3 x  3 = 9\n",
      "3 x  4 = 12\n",
      "3 x  5 = 15\n",
      "3 x  6 = 18\n",
      "3 x  7 = 21\n",
      "3 x  8 = 24\n",
      "3 x  9 = 27\n",
      "3 x  10 = 30\n"
     ]
    }
   ],
   "source": [
    "i = int(input())\n",
    "for n in range(1, 11):\n",
    "    \n",
    "    print(i, 'x ', f'{n} =', i * n)"
   ]
  },
  {
   "cell_type": "code",
   "execution_count": 39,
   "id": "bb51b882",
   "metadata": {},
   "outputs": [
    {
     "name": "stdout",
     "output_type": "stream",
     "text": [
      "1\n",
      "22\n",
      "333\n",
      "4444\n",
      "55555\n",
      "666666\n",
      "7777777\n",
      "88888888\n",
      "999999999\n"
     ]
    }
   ],
   "source": [
    "for n in range(1, 10):\n",
    "    print(n*f'{n}')"
   ]
  },
  {
   "cell_type": "code",
   "execution_count": 46,
   "id": "9527e665",
   "metadata": {},
   "outputs": [
    {
     "name": "stdout",
     "output_type": "stream",
     "text": [
      "Input a positive integer:\n",
      "4\n",
      "4\n",
      "3\n",
      "2\n",
      "1\n"
     ]
    }
   ],
   "source": [
    "print('Input a positive integer:')\n",
    "i = int(input())\n",
    "while i >= 1:\n",
    "    print(i)\n",
    "    i -= 1"
   ]
  },
  {
   "cell_type": "code",
   "execution_count": 49,
   "id": "93ed0d5f",
   "metadata": {},
   "outputs": [
    {
     "name": "stdout",
     "output_type": "stream",
     "text": [
      "Input a positive integer:\n",
      "7\n",
      "0\n",
      "1\n",
      "2\n",
      "3\n",
      "4\n",
      "5\n",
      "6\n",
      "7\n"
     ]
    }
   ],
   "source": [
    "print('Input a positive integer:')\n",
    "i = int(input())\n",
    "n = 0\n",
    "while n <= i:\n",
    "    print(n)\n",
    "    n += 1"
   ]
  },
  {
   "cell_type": "code",
   "execution_count": 60,
   "id": "0f342344",
   "metadata": {},
   "outputs": [
    {
     "name": "stdout",
     "output_type": "stream",
     "text": [
      "Input an odd number between 1 and 50\n",
      "5\n",
      "Heres an odd number: 1\n",
      "Heres an odd number: 3\n",
      "Yikes! Skipping number: 5\n",
      "Heres an odd number: 7\n",
      "Heres an odd number: 9\n",
      "Heres an odd number: 11\n",
      "Heres an odd number: 13\n",
      "Heres an odd number: 15\n",
      "Heres an odd number: 17\n",
      "Heres an odd number: 19\n",
      "Heres an odd number: 21\n",
      "Heres an odd number: 23\n",
      "Heres an odd number: 25\n",
      "Heres an odd number: 27\n",
      "Heres an odd number: 29\n",
      "Heres an odd number: 31\n",
      "Heres an odd number: 33\n",
      "Heres an odd number: 35\n",
      "Heres an odd number: 37\n",
      "Heres an odd number: 39\n",
      "Heres an odd number: 41\n",
      "Heres an odd number: 43\n",
      "Heres an odd number: 45\n",
      "Heres an odd number: 47\n",
      "Heres an odd number: 49\n"
     ]
    }
   ],
   "source": [
    "print('Input an odd number between 1 and 50')\n",
    "i = input()\n",
    "if i.isdigit() != True:\n",
    "    print('Make sure you entered a valid input!:')\n",
    "    i = int(input())\n",
    "else:\n",
    "    i = int(i)\n",
    "for n in range (1, 50):\n",
    "    if n % 2 == 1:\n",
    "        if n == i:\n",
    "            print('Yikes! Skipping number:', i)\n",
    "        else: \n",
    "            print('Heres an odd number:', n)"
   ]
  },
  {
   "cell_type": "code",
   "execution_count": 2,
   "id": "d59493ad",
   "metadata": {},
   "outputs": [
    {
     "name": "stdout",
     "output_type": "stream",
     "text": [
      "1\n",
      "2\n",
      "Fizz\n",
      "4\n",
      "Buzz\n",
      "Fizz\n",
      "7\n",
      "8\n",
      "Fizz\n",
      "Buzz\n",
      "11\n",
      "Fizz\n",
      "13\n",
      "14\n",
      "FizzBuzz\n",
      "16\n",
      "17\n",
      "Fizz\n",
      "19\n",
      "Buzz\n",
      "Fizz\n",
      "22\n",
      "23\n",
      "Fizz\n",
      "Buzz\n",
      "26\n",
      "Fizz\n",
      "28\n",
      "29\n",
      "FizzBuzz\n",
      "31\n",
      "32\n",
      "Fizz\n",
      "34\n",
      "Buzz\n",
      "Fizz\n",
      "37\n",
      "38\n",
      "Fizz\n",
      "Buzz\n",
      "41\n",
      "Fizz\n",
      "43\n",
      "44\n",
      "FizzBuzz\n",
      "46\n",
      "47\n",
      "Fizz\n",
      "49\n",
      "Buzz\n",
      "Fizz\n",
      "52\n",
      "53\n",
      "Fizz\n",
      "Buzz\n",
      "56\n",
      "Fizz\n",
      "58\n",
      "59\n",
      "FizzBuzz\n",
      "61\n",
      "62\n",
      "Fizz\n",
      "64\n",
      "Buzz\n",
      "Fizz\n",
      "67\n",
      "68\n",
      "Fizz\n",
      "Buzz\n",
      "71\n",
      "Fizz\n",
      "73\n",
      "74\n",
      "FizzBuzz\n",
      "76\n",
      "77\n",
      "Fizz\n",
      "79\n",
      "Buzz\n",
      "Fizz\n",
      "82\n",
      "83\n",
      "Fizz\n",
      "Buzz\n",
      "86\n",
      "Fizz\n",
      "88\n",
      "89\n",
      "FizzBuzz\n",
      "91\n",
      "92\n",
      "Fizz\n",
      "94\n",
      "Buzz\n",
      "Fizz\n",
      "97\n",
      "98\n",
      "Fizz\n",
      "Buzz\n"
     ]
    }
   ],
   "source": [
    "i = 1\n",
    "while i <= 100:\n",
    "    if i % 3 == 0 and i % 5 == 0:\n",
    "        print('FizzBuzz')\n",
    "    elif i % 3 == 0:\n",
    "        print('Fizz')\n",
    "    elif i % 5 == 0:\n",
    "        print('Buzz')\n",
    "    else:\n",
    "        print(i)\n",
    "    i += 1"
   ]
  },
  {
   "cell_type": "code",
   "execution_count": 37,
   "id": "ca63b099",
   "metadata": {},
   "outputs": [
    {
     "name": "stdout",
     "output_type": "stream",
     "text": [
      "What number would you like to go up to? 5\n",
      "Here is your table!\n",
      "number | squared| cubed\n",
      "------ | -------| ------\n",
      "1\t|1\t|1\n",
      "2\t|4\t|8\n",
      "3\t|9\t|27\n",
      "4\t|16\t|64\n",
      "5\t|25\t|125\n",
      "Run again? (y/n): y\n",
      "What number would you like to go up to? 7\n",
      "Here is your table!\n",
      "number | squared| cubed\n",
      "------ | -------| ------\n",
      "1\t|1\t|1\n",
      "2\t|4\t|8\n",
      "3\t|9\t|27\n",
      "4\t|16\t|64\n",
      "5\t|25\t|125\n",
      "6\t|36\t|216\n",
      "7\t|49\t|343\n",
      "Run again? (y/n): n\n",
      "Goodbye\n"
     ]
    }
   ],
   "source": [
    "while True:\n",
    "    i = int(input('What number would you like to go up to? '))\n",
    "    print('Here is your table!')\n",
    "    print('number | squared| cubed')\n",
    "    print('------ | -------| ------')\n",
    "    n = 1\n",
    "    while n <= i:\n",
    "        print(f'{n}\\t|{n**2}\\t|{n**3}')\n",
    "        n += 1\n",
    "    while True:\n",
    "        answer = str(input('Run again? (y/n): '))\n",
    "        if answer in ('y', 'n'):\n",
    "            break\n",
    "        print(\"invalid input.\")\n",
    "    if answer == 'y':\n",
    "        continue\n",
    "    else:\n",
    "        print(\"Goodbye\")\n",
    "        break\n",
    "\n"
   ]
  },
  {
   "cell_type": "code",
   "execution_count": 34,
   "id": "a5213276",
   "metadata": {},
   "outputs": [
    {
     "name": "stdout",
     "output_type": "stream",
     "text": [
      "Enter a numerical grade:\n",
      "88\n",
      "A\n",
      "Run again? (y/n): y\n",
      "Enter a numerical grade:\n",
      "5\n",
      "F\n",
      "Run again? (y/n): n\n",
      "Goodbye\n"
     ]
    }
   ],
   "source": [
    "while True:\n",
    "    print('Enter a numerical grade:')\n",
    "    i = int(input())\n",
    "    if 100 >= i >= 88:\n",
    "        print('A')\n",
    "    elif 87 >= i >= 80:\n",
    "        print('B')\n",
    "    elif 79 >= i >= 67:\n",
    "        print('C')\n",
    "    elif 66 >= i >= 60:\n",
    "        print('D')\n",
    "    elif i <= 59:\n",
    "        print('F')\n",
    "    while True:\n",
    "        answer = str(input('Run again? (y/n): '))\n",
    "        if answer in ('y', 'n'):\n",
    "            break\n",
    "        print(\"invalid input.\")\n",
    "    if answer == 'y':\n",
    "        continue\n",
    "    else:\n",
    "        print(\"Goodbye\")\n",
    "        break"
   ]
  },
  {
   "cell_type": "code",
   "execution_count": 46,
   "id": "d7049432",
   "metadata": {},
   "outputs": [
    {
     "name": "stdout",
     "output_type": "stream",
     "text": [
      "What genre are you interested in? greek mythology\n",
      "['Percy Jackson']\n"
     ]
    }
   ],
   "source": [
    "books = [{\n",
    "        'title': 'Harry Potter',\n",
    "        'author': 'J.K. Rowling',\n",
    "        'genre': 'fantasy',\n",
    "    },\n",
    "    {\n",
    "        'title': 'Percy Jackson',\n",
    "        'author': 'Rick Riordan',\n",
    "        'genre': 'greek mythology',\n",
    "    },\n",
    "    {\n",
    "        'title': 'Lord of the Rings',\n",
    "        'author': 'J.R.R. Tolkien',\n",
    "        'genre': 'fantasy'\n",
    "    },\n",
    "    {\n",
    "        'title': 'The Great Gatsby',\n",
    "        'author': 'F. Scott Fitzgerald',\n",
    "        'genre': 'fiction'\n",
    "    }]\n",
    "\n",
    "requested_genre = input('What genre are you interested in? ')\n",
    "requested_books = [n['title'] for n in books if n['genre'] == requested_genre]\n",
    "\n",
    "print(requested_books)\n"
   ]
  },
  {
   "cell_type": "code",
   "execution_count": null,
   "id": "b8a145b0",
   "metadata": {},
   "outputs": [],
   "source": []
  }
 ],
 "metadata": {
  "kernelspec": {
   "display_name": "Python 3 (ipykernel)",
   "language": "python",
   "name": "python3"
  },
  "language_info": {
   "codemirror_mode": {
    "name": "ipython",
    "version": 3
   },
   "file_extension": ".py",
   "mimetype": "text/x-python",
   "name": "python",
   "nbconvert_exporter": "python",
   "pygments_lexer": "ipython3",
   "version": "3.9.13"
  }
 },
 "nbformat": 4,
 "nbformat_minor": 5
}
