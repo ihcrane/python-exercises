{
 "cells": [
  {
   "cell_type": "code",
   "execution_count": 1,
   "id": "d6a699d6",
   "metadata": {},
   "outputs": [],
   "source": [
    "students = [\n",
    "    {\n",
    "        \"id\": \"100001\",\n",
    "        \"student\": \"Ada Lovelace\",\n",
    "        \"coffee_preference\": \"light\",\n",
    "        \"course\": \"web development\",\n",
    "        \"grades\": [70, 91, 82, 71],\n",
    "        \"pets\": [{\"species\": \"horse\", \"age\": 8}],\n",
    "    },\n",
    "    {\n",
    "        \"id\": \"100002\",\n",
    "        \"student\": \"Thomas Bayes\",\n",
    "        \"coffee_preference\": \"medium\",\n",
    "        \"course\": \"data science\",\n",
    "        \"grades\": [75, 73, 86, 100],\n",
    "        \"pets\": [],\n",
    "    },\n",
    "    {\n",
    "        \"id\": \"100003\",\n",
    "        \"student\": \"Marie Curie\",\n",
    "        \"coffee_preference\": \"light\",\n",
    "        \"course\": \"web development\",\n",
    "        \"grades\": [70, 89, 69, 65],\n",
    "        \"pets\": [{\"species\": \"cat\", \"age\": 0}],\n",
    "    },\n",
    "    {\n",
    "        \"id\": \"100004\",\n",
    "        \"student\": \"Grace Hopper\",\n",
    "        \"coffee_preference\": \"dark\",\n",
    "        \"course\": \"data science\",\n",
    "        \"grades\": [73, 66, 83, 92],\n",
    "        \"pets\": [{\"species\": \"dog\", \"age\": 4}, {\"species\": \"cat\", \"age\": 4}],\n",
    "    },\n",
    "    {\n",
    "        \"id\": \"100005\",\n",
    "        \"student\": \"Alan Turing\",\n",
    "        \"coffee_preference\": \"dark\",\n",
    "        \"course\": \"web development\",\n",
    "        \"grades\": [78, 98, 85, 65],\n",
    "        \"pets\": [\n",
    "            {\"species\": \"horse\", \"age\": 6},\n",
    "            {\"species\": \"horse\", \"age\": 7},\n",
    "            {\"species\": \"dog\", \"age\": 5},\n",
    "        ],\n",
    "    },\n",
    "    {\n",
    "        \"id\": \"100006\",\n",
    "        \"student\": \"Rosalind Franklin\",\n",
    "        \"coffee_preference\": \"dark\",\n",
    "        \"course\": \"data science\",\n",
    "        \"grades\": [76, 70, 96, 81],\n",
    "        \"pets\": [],\n",
    "    },\n",
    "    {\n",
    "        \"id\": \"100007\",\n",
    "        \"student\": \"Elizabeth Blackwell\",\n",
    "        \"coffee_preference\": \"dark\",\n",
    "        \"course\": \"web development\",\n",
    "        \"grades\": [69, 94, 89, 86],\n",
    "        \"pets\": [{\"species\": \"cat\", \"age\": 10}],\n",
    "    },\n",
    "    {\n",
    "        \"id\": \"100008\",\n",
    "        \"student\": \"Rene Descartes\",\n",
    "        \"coffee_preference\": \"medium\",\n",
    "        \"course\": \"data science\",\n",
    "        \"grades\": [87, 79, 90, 99],\n",
    "        \"pets\": [{\"species\": \"cat\", \"age\": 10}, {\"species\": \"cat\", \"age\": 8}],\n",
    "    },\n",
    "    {\n",
    "        \"id\": \"100009\",\n",
    "        \"student\": \"Ahmed Zewail\",\n",
    "        \"coffee_preference\": \"medium\",\n",
    "        \"course\": \"data science\",\n",
    "        \"grades\": [74, 99, 93, 89],\n",
    "        \"pets\": [{\"species\": \"cat\", \"age\": 0}, {\"species\": \"cat\", \"age\": 0}],\n",
    "    },\n",
    "    {\n",
    "        \"id\": \"100010\",\n",
    "        \"student\": \"Chien-Shiung Wu\",\n",
    "        \"coffee_preference\": \"medium\",\n",
    "        \"course\": \"web development\",\n",
    "        \"grades\": [82, 92, 91, 65],\n",
    "        \"pets\": [{\"species\": \"cat\", \"age\": 8}],\n",
    "    },\n",
    "    {\n",
    "        \"id\": \"100011\",\n",
    "        \"student\": \"William Sanford Nye\",\n",
    "        \"coffee_preference\": \"dark\",\n",
    "        \"course\": \"data science\",\n",
    "        \"grades\": [70, 92, 65, 99],\n",
    "        \"pets\": [{\"species\": \"cat\", \"age\": 8}, {\"species\": \"cat\", \"age\": 5}],\n",
    "    },\n",
    "    {\n",
    "        \"id\": \"100012\",\n",
    "        \"student\": \"Carl Sagan\",\n",
    "        \"coffee_preference\": \"medium\",\n",
    "        \"course\": \"data science\",\n",
    "        \"grades\": [100, 86, 91, 87],\n",
    "        \"pets\": [{\"species\": \"cat\", \"age\": 10}],\n",
    "    },\n",
    "    {\n",
    "        \"id\": \"100013\",\n",
    "        \"student\": \"Jane Goodall\",\n",
    "        \"coffee_preference\": \"light\",\n",
    "        \"course\": \"web development\",\n",
    "        \"grades\": [80, 70, 68, 98],\n",
    "        \"pets\": [{\"species\": \"horse\", \"age\": 4}],\n",
    "    },\n",
    "    {\n",
    "        \"id\": \"100014\",\n",
    "        \"student\": \"Richard Feynman\",\n",
    "        \"coffee_preference\": \"medium\",\n",
    "        \"course\": \"web development\",\n",
    "        \"grades\": [73, 99, 86, 98],\n",
    "        \"pets\": [{\"species\": \"dog\", \"age\": 6}],\n",
    "    },\n",
    "]"
   ]
  },
  {
   "cell_type": "code",
   "execution_count": 2,
   "id": "50e4264f",
   "metadata": {},
   "outputs": [
    {
     "name": "stdout",
     "output_type": "stream",
     "text": [
      "14\n"
     ]
    }
   ],
   "source": [
    "#How many students are there?\n",
    "print(len(students))"
   ]
  },
  {
   "cell_type": "code",
   "execution_count": 11,
   "id": "7f8ff42b",
   "metadata": {},
   "outputs": [
    {
     "name": "stdout",
     "output_type": "stream",
     "text": [
      "3\n",
      "6\n",
      "5\n"
     ]
    }
   ],
   "source": [
    "#How many students prefer light coffee? For each type of coffee roast?\n",
    "preference = [n['coffee_preference'] for n in students]\n",
    "light_preference = preference.count('light')\n",
    "medium_preference = preference.count('medium')\n",
    "dark_preference = preference.count('dark')\n",
    "print(light_preference)\n",
    "print(medium_preference)\n",
    "print(dark_preference)"
   ]
  },
  {
   "cell_type": "code",
   "execution_count": 65,
   "id": "7cc1a9fd",
   "metadata": {},
   "outputs": [
    {
     "name": "stdout",
     "output_type": "stream",
     "text": [
      "4 11 3\n"
     ]
    }
   ],
   "source": [
    "#How many types of each pet are there?\n",
    "horse_count = 0\n",
    "cat_count = 0\n",
    "dog_count = 0\n",
    "pets = list(n['pets'] for n in students)\n",
    "for n in range(len(pets)):\n",
    "    i = pets[n]\n",
    "    for x in i:\n",
    "        if x['species'] == 'horse':\n",
    "            horse_count += 1\n",
    "        elif x['species'] == 'cat':\n",
    "            cat_count += 1\n",
    "        else:\n",
    "            dog_count += 1\n",
    "\n",
    "print(horse_count, cat_count, dog_count)"
   ]
  },
  {
   "cell_type": "code",
   "execution_count": 67,
   "id": "53ee2de5",
   "metadata": {},
   "outputs": [
    {
     "name": "stdout",
     "output_type": "stream",
     "text": [
      "[4, 4, 4, 4, 4, 4, 4, 4, 4, 4, 4, 4, 4, 4]\n"
     ]
    }
   ],
   "source": [
    "#How many grades does each student have? Do they all have the same number of grades?\n",
    "grades = [len(n['grades']) for n in students]\n",
    "\n",
    "print(grades)"
   ]
  },
  {
   "cell_type": "code",
   "execution_count": 108,
   "id": "14a8705f",
   "metadata": {},
   "outputs": [
    {
     "name": "stdout",
     "output_type": "stream",
     "text": [
      "[78.5, 83.5, 73.25, 78.5, 81.5, 80.75, 84.5, 88.75, 88.75, 82.5, 81.5, 91.0, 79.0, 89.0]\n"
     ]
    }
   ],
   "source": [
    "#What is each student's grade average?\n",
    "avg_grade = [sum(n['grades'])/len(n['grades']) for n in students]\n",
    "\n",
    "print(avg_grade)"
   ]
  },
  {
   "cell_type": "code",
   "execution_count": 88,
   "id": "3ca2867a",
   "metadata": {},
   "outputs": [
    {
     "name": "stdout",
     "output_type": "stream",
     "text": [
      "[1, 0, 1, 2, 3, 0, 1, 2, 2, 1, 2, 1, 1, 1]\n"
     ]
    }
   ],
   "source": [
    "#How many pets does each student have?\n",
    "num_pets = [len(n['pets']) for n in students]\n",
    "print(num_pets)"
   ]
  },
  {
   "cell_type": "code",
   "execution_count": 77,
   "id": "b28f099d",
   "metadata": {},
   "outputs": [
    {
     "name": "stdout",
     "output_type": "stream",
     "text": [
      "7 7\n"
     ]
    }
   ],
   "source": [
    "#How many students are in web development? data science?\n",
    "num_web_dev = [n['course'].count('web development') for n in students]\n",
    "num_web_dev = sum(num_web_dev)\n",
    "\n",
    "num_data_science = [n['course'].count('data science') for n in students]\n",
    "num_data_science = sum(num_data_science)\n",
    "print(num_web_dev, num_data_science)"
   ]
  },
  {
   "cell_type": "code",
   "execution_count": 85,
   "id": "42a4f958",
   "metadata": {},
   "outputs": [
    {
     "name": "stdout",
     "output_type": "stream",
     "text": [
      "1.2857142857142858\n"
     ]
    }
   ],
   "source": [
    "#What is the average number of pets for students in web development?\n",
    "num_pets_wd = [len(n['pets']) for n in students if n['course'] == 'web development']\n",
    "num_pets_wd = sum(num_pets_wd)/num_web_dev\n",
    "print(num_pets_wd)"
   ]
  },
  {
   "cell_type": "code",
   "execution_count": 134,
   "id": "411f6b12",
   "metadata": {},
   "outputs": [
    {
     "name": "stdout",
     "output_type": "stream",
     "text": [
      "5.444444444444445\n"
     ]
    }
   ],
   "source": [
    "#What is the average pet age for students in data science?\n",
    "pets = [n['pets'] for n in students if n['course'] == 'data science']\n",
    "avg_age = 0\n",
    "pet_count = 0\n",
    "for n in range(len(pets)):\n",
    "    i = pets[n]\n",
    "    for x in i:\n",
    "        avg_age += x['age']\n",
    "        pet_count += 1\n",
    "print(avg_age/pet_count)"
   ]
  },
  {
   "cell_type": "code",
   "execution_count": 93,
   "id": "7f6a8243",
   "metadata": {},
   "outputs": [
    {
     "name": "stdout",
     "output_type": "stream",
     "text": [
      "['medium', 'dark', 'dark', 'medium', 'medium', 'dark', 'medium'] Dark:  3 Medium:  4 Light:  0\n"
     ]
    }
   ],
   "source": [
    "#What is most frequent coffee preference for data science students?\n",
    "preference = [n['coffee_preference'] for n in students if n['course'] == 'data science']\n",
    "dark = preference.count('dark')\n",
    "medium = preference.count('medium')\n",
    "light = preference.count('light')\n",
    "print(preference, 'Dark: ', dark, 'Medium: ', medium, 'Light: ', light)"
   ]
  },
  {
   "cell_type": "code",
   "execution_count": 94,
   "id": "3e666bf4",
   "metadata": {},
   "outputs": [
    {
     "name": "stdout",
     "output_type": "stream",
     "text": [
      "['medium', 'dark', 'dark', 'medium', 'medium', 'dark', 'medium'] Dark:  3 Medium:  4 Light:  0\n"
     ]
    }
   ],
   "source": [
    "#What is the least frequent coffee preference for web development students?\n",
    "preference = [n['coffee_preference'] for n in students if n['course'] == 'data science']\n",
    "dark = preference.count('dark')\n",
    "medium = preference.count('medium')\n",
    "light = preference.count('light')\n",
    "print(preference, 'Dark: ', dark, 'Medium: ', medium, 'Light: ', light)"
   ]
  },
  {
   "cell_type": "code",
   "execution_count": 106,
   "id": "5c1f5a2f",
   "metadata": {},
   "outputs": [
    {
     "name": "stdout",
     "output_type": "stream",
     "text": [
      "[78.5, 81.5, 88.75, 88.75, 81.5]\n"
     ]
    }
   ],
   "source": [
    "#What is the average grade for students with at least 2 pets?\n",
    "avg_grade = [sum(n['grades'])/len(n['grades']) for n in students if len(n['pets']) >= 2]\n",
    "print(avg_grade)"
   ]
  },
  {
   "cell_type": "code",
   "execution_count": 110,
   "id": "dc456a03",
   "metadata": {},
   "outputs": [
    {
     "name": "stdout",
     "output_type": "stream",
     "text": [
      "1\n"
     ]
    }
   ],
   "source": [
    "#How many students have 3 pets?\n",
    "three_pets = [len(n['pets']) for n in students if len(n['pets']) >=3]\n",
    "print(len(num_pets))"
   ]
  },
  {
   "cell_type": "code",
   "execution_count": 111,
   "id": "93662c69",
   "metadata": {},
   "outputs": [
    {
     "name": "stdout",
     "output_type": "stream",
     "text": [
      "[78.5, 73.25, 81.5, 84.5, 82.5, 79.0, 89.0]\n"
     ]
    }
   ],
   "source": [
    "#What is the average grade for students with 0 pets?\n",
    "avg_grade_no_pets = [sum(n['grades'])/len(n['grades']) for n in students if len(n['pets']) == 0]\n",
    "print(avg_grade)"
   ]
  },
  {
   "cell_type": "code",
   "execution_count": 115,
   "id": "dd78e3d3",
   "metadata": {},
   "outputs": [
    {
     "name": "stdout",
     "output_type": "stream",
     "text": [
      "[78.5, 73.25, 81.5, 84.5, 82.5, 79.0, 89.0] \n",
      " [83.5, 78.5, 80.75, 88.75, 88.75, 81.5, 91.0]\n"
     ]
    }
   ],
   "source": [
    "#What is the average grade for web development students? data science students?\n",
    "avg_grade_wb = [sum(n['grades'])/len(n['grades']) for n in students if n['course'] == 'web development']\n",
    "avg_grade_ds = [sum(n['grades'])/len(n['grades']) for n in students if n['course'] == 'data science']\n",
    "print(avg_grade_wb, '\\n', avg_grade_ds)"
   ]
  },
  {
   "cell_type": "code",
   "execution_count": 133,
   "id": "b380860e",
   "metadata": {},
   "outputs": [
    {
     "name": "stdout",
     "output_type": "stream",
     "text": [
      "34\n"
     ]
    }
   ],
   "source": [
    "#What is the average grade range (i.e. highest grade - lowest grade) for dark coffee drinkers?\n",
    "dark_coffee_grades = [n['grades'] for n in students if n['coffee_preference'] == 'dark']\n",
    "highest_grade = 0\n",
    "lowest_grade = 100\n",
    "for n in dark_coffee_grades:\n",
    "    if max(n) > highest_grade:\n",
    "        highest_grade = max(n)\n",
    "    if min(n) < lowest_grade:\n",
    "        lowest_grade = min(n)\n",
    "\n",
    "print(highest_grade - lowest_grade)"
   ]
  },
  {
   "cell_type": "code",
   "execution_count": 137,
   "id": "ec8c9efc",
   "metadata": {},
   "outputs": [
    {
     "name": "stdout",
     "output_type": "stream",
     "text": [
      "1.1666666666666667\n"
     ]
    }
   ],
   "source": [
    "#What is the average number of pets for medium coffee drinkers?\n",
    "num_pets_medium_pref = [len(n['pets']) for n in students if n['coffee_preference'] == 'medium']\n",
    "num_pets_mp = sum(num_pets_medium_pref)/medium_preference\n",
    "\n",
    "print(num_pets_mp)"
   ]
  },
  {
   "cell_type": "code",
   "execution_count": 139,
   "id": "51a020cd",
   "metadata": {},
   "outputs": [
    {
     "name": "stdout",
     "output_type": "stream",
     "text": [
      "Horses: 4 Cats: 3 Dogs: 2\n"
     ]
    }
   ],
   "source": [
    "#What is the most common type of pet for web development students?\n",
    "horse_count = 0\n",
    "cat_count = 0\n",
    "dog_count = 0\n",
    "pets = [n['pets'] for n in students if n['course'] == 'web development']\n",
    "for n in range(len(pets)):\n",
    "    i = pets[n]\n",
    "    for x in i:\n",
    "        if x['species'] == 'horse':\n",
    "            horse_count += 1\n",
    "        elif x['species'] == 'cat':\n",
    "            cat_count += 1\n",
    "        else:\n",
    "            dog_count += 1\n",
    "print('Horses:', horse_count, 'Cats:', cat_count, 'Dogs:', dog_count)"
   ]
  },
  {
   "cell_type": "code",
   "execution_count": 143,
   "id": "d8a0681f",
   "metadata": {},
   "outputs": [
    {
     "name": "stdout",
     "output_type": "stream",
     "text": [
      "28.357142857142858\n"
     ]
    }
   ],
   "source": [
    "#What is the average name length?\n",
    "names = [n['student'] for n in students]\n",
    "num_names = len(names)\n",
    "for n in names:\n",
    "    name_len += len(n)\n",
    "\n",
    "print(name_len/num_names)"
   ]
  },
  {
   "cell_type": "code",
   "execution_count": 146,
   "id": "a0fcc44a",
   "metadata": {},
   "outputs": [
    {
     "name": "stdout",
     "output_type": "stream",
     "text": [
      "8\n"
     ]
    }
   ],
   "source": [
    "#What is the highest pet age for light coffee drinkers?\n",
    "pets = [n['pets'] for n in students if n['coffee_preference'] == 'light']\n",
    "highest_age = 0\n",
    "for n in range(len(pets)):\n",
    "    i = pets[n]\n",
    "    for x in i:\n",
    "        if x['age'] > highest_age:\n",
    "            highest_age = x['age']\n",
    "print(highest_age)"
   ]
  },
  {
   "cell_type": "code",
   "execution_count": null,
   "id": "076a0ba8",
   "metadata": {},
   "outputs": [],
   "source": []
  }
 ],
 "metadata": {
  "kernelspec": {
   "display_name": "Python 3 (ipykernel)",
   "language": "python",
   "name": "python3"
  },
  "language_info": {
   "codemirror_mode": {
    "name": "ipython",
    "version": 3
   },
   "file_extension": ".py",
   "mimetype": "text/x-python",
   "name": "python",
   "nbconvert_exporter": "python",
   "pygments_lexer": "ipython3",
   "version": "3.9.13"
  }
 },
 "nbformat": 4,
 "nbformat_minor": 5
}
