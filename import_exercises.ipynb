{
 "cells": [
  {
   "cell_type": "code",
   "execution_count": 11,
   "id": "524a973a",
   "metadata": {},
   "outputs": [
    {
     "data": {
      "text/plain": [
       "True"
      ]
     },
     "execution_count": 11,
     "metadata": {},
     "output_type": "execute_result"
    }
   ],
   "source": [
    "import functions_exercises as fe\n",
    "\n",
    "fe.is_vowel('a')"
   ]
  },
  {
   "cell_type": "code",
   "execution_count": 13,
   "id": "3aa12d4e",
   "metadata": {},
   "outputs": [
    {
     "data": {
      "text/plain": [
       "24.0"
      ]
     },
     "execution_count": 13,
     "metadata": {},
     "output_type": "execute_result"
    }
   ],
   "source": [
    "from functions_exercises import calculate_tip\n",
    "\n",
    "calculate_tip(.20, 120)"
   ]
  },
  {
   "cell_type": "code",
   "execution_count": 16,
   "id": "81790c9f",
   "metadata": {},
   "outputs": [
    {
     "data": {
      "text/plain": [
       "'A'"
      ]
     },
     "execution_count": 16,
     "metadata": {},
     "output_type": "execute_result"
    }
   ],
   "source": [
    "from functions_exercises import get_letter_grade as lg\n",
    "\n",
    "lg(97)"
   ]
  },
  {
   "cell_type": "code",
   "execution_count": 5,
   "id": "06776716",
   "metadata": {},
   "outputs": [
    {
     "data": {
      "text/plain": [
       "[('A', 1),\n",
       " ('A', 2),\n",
       " ('A', 3),\n",
       " ('B', 1),\n",
       " ('B', 2),\n",
       " ('B', 3),\n",
       " ('C', 1),\n",
       " ('C', 2),\n",
       " ('C', 3)]"
      ]
     },
     "execution_count": 5,
     "metadata": {},
     "output_type": "execute_result"
    }
   ],
   "source": [
    "from itertools import product\n",
    "\n",
    "list(product('ABC', [1,2,3]))\n"
   ]
  },
  {
   "cell_type": "code",
   "execution_count": 8,
   "id": "165378a7",
   "metadata": {},
   "outputs": [
    {
     "data": {
      "text/plain": [
       "[('a', 'b'), ('a', 'c'), ('a', 'd'), ('b', 'c'), ('b', 'd'), ('c', 'd')]"
      ]
     },
     "execution_count": 8,
     "metadata": {},
     "output_type": "execute_result"
    }
   ],
   "source": [
    "from itertools import combinations\n",
    "\n",
    "list(combinations('abcd', 2))"
   ]
  },
  {
   "cell_type": "code",
   "execution_count": 9,
   "id": "ca8afa77",
   "metadata": {},
   "outputs": [
    {
     "data": {
      "text/plain": [
       "[('a', 'b'),\n",
       " ('a', 'c'),\n",
       " ('a', 'd'),\n",
       " ('b', 'a'),\n",
       " ('b', 'c'),\n",
       " ('b', 'd'),\n",
       " ('c', 'a'),\n",
       " ('c', 'b'),\n",
       " ('c', 'd'),\n",
       " ('d', 'a'),\n",
       " ('d', 'b'),\n",
       " ('d', 'c')]"
      ]
     },
     "execution_count": 9,
     "metadata": {},
     "output_type": "execute_result"
    }
   ],
   "source": [
    "from itertools import permutations\n",
    "\n",
    "list(permutations('abcd', 2))"
   ]
  },
  {
   "cell_type": "code",
   "execution_count": 2,
   "id": "645580c2",
   "metadata": {},
   "outputs": [
    {
     "name": "stdout",
     "output_type": "stream",
     "text": [
      "19\n"
     ]
    }
   ],
   "source": [
    "import json\n",
    "\n",
    "profiles = json.load(open('profiles.json'))\n",
    "\n",
    "print(len(profiles))\n"
   ]
  },
  {
   "cell_type": "code",
   "execution_count": 5,
   "id": "e7d8f354",
   "metadata": {},
   "outputs": [
    {
     "data": {
      "text/plain": [
       "9"
      ]
     },
     "execution_count": 5,
     "metadata": {},
     "output_type": "execute_result"
    }
   ],
   "source": [
    "active = [n for n in profiles if n['isActive']]\n",
    "len(active)"
   ]
  },
  {
   "cell_type": "code",
   "execution_count": 7,
   "id": "05396dbf",
   "metadata": {},
   "outputs": [
    {
     "data": {
      "text/plain": [
       "10"
      ]
     },
     "execution_count": 7,
     "metadata": {},
     "output_type": "execute_result"
    }
   ],
   "source": [
    "not_active = [n for n in profiles if not n['isActive']]\n",
    "len(not_active)"
   ]
  },
  {
   "cell_type": "code",
   "execution_count": 8,
   "id": "d091c403",
   "metadata": {},
   "outputs": [
    {
     "name": "stdout",
     "output_type": "stream",
     "text": [
      "52667.02\n"
     ]
    }
   ],
   "source": [
    "total = 0\n",
    "for n in profiles:\n",
    "    total += float(n['balance'].replace('$', '').replace(',', ''))\n",
    "    \n",
    "print(total)"
   ]
  },
  {
   "cell_type": "code",
   "execution_count": 11,
   "id": "8307fac0",
   "metadata": {},
   "outputs": [
    {
     "name": "stdout",
     "output_type": "stream",
     "text": [
      "2771.95\n"
     ]
    }
   ],
   "source": [
    "avg_bal = 0\n",
    "for n in profiles:\n",
    "    avg_bal += float(n['balance'].replace('$', '').replace(',', ''))\n",
    "    \n",
    "print(round(avg_bal/len(profiles), 2))"
   ]
  },
  {
   "cell_type": "code",
   "execution_count": 12,
   "id": "08cee227",
   "metadata": {},
   "outputs": [
    {
     "name": "stdout",
     "output_type": "stream",
     "text": [
      "Avery Flynn 1214.1\n"
     ]
    }
   ],
   "source": [
    "lowest = 5000\n",
    "lowest_name = ''\n",
    "\n",
    "for n in profiles:\n",
    "    bal = float(n['balance'].replace('$', '').replace(',', ''))\n",
    "    \n",
    "    if bal < lowest:\n",
    "        lowest_name = n['name']\n",
    "        lowest = bal\n",
    "\n",
    "print(lowest_name, lowest)"
   ]
  },
  {
   "cell_type": "code",
   "execution_count": 13,
   "id": "9d92204a",
   "metadata": {},
   "outputs": [
    {
     "name": "stdout",
     "output_type": "stream",
     "text": [
      "Fay Hammond 3919.64\n"
     ]
    }
   ],
   "source": [
    "highest = 1000\n",
    "highest_name = ''\n",
    "\n",
    "for n in profiles:\n",
    "    bal = float(n['balance'].replace('$', '').replace(',', ''))\n",
    "    \n",
    "    if bal > highest:\n",
    "        highest_name = n['name']\n",
    "        highest = bal\n",
    "\n",
    "print(highest_name, highest)"
   ]
  },
  {
   "cell_type": "code",
   "execution_count": 14,
   "id": "41b4fb1f",
   "metadata": {},
   "outputs": [
    {
     "name": "stdout",
     "output_type": "stream",
     "text": [
      "strawberry: 9 apple: 4 banana: 6\n"
     ]
    }
   ],
   "source": [
    "fruits = [n['favoriteFruit'] for n in profiles]\n",
    "\n",
    "sb_count = fruits.count('strawberry')\n",
    "ap_count = fruits.count('apple')\n",
    "ba_count = fruits.count('banana')\n",
    "\n",
    "\n",
    "print('strawberry:', sb_count, 'apple:', ap_count, 'banana:', ba_count)"
   ]
  },
  {
   "cell_type": "code",
   "execution_count": 17,
   "id": "a402024a",
   "metadata": {},
   "outputs": [
    {
     "name": "stdout",
     "output_type": "stream",
     "text": [
      "210\n"
     ]
    }
   ],
   "source": [
    "total = 0\n",
    "\n",
    "for n in profiles:\n",
    "    msg = n['greeting'].split(' ')\n",
    "    for i in msg:\n",
    "        if i.isdigit():\n",
    "            total += (int(i))\n",
    "\n",
    "print(total)"
   ]
  },
  {
   "cell_type": "code",
   "execution_count": null,
   "id": "c6f814bb",
   "metadata": {},
   "outputs": [],
   "source": []
  }
 ],
 "metadata": {
  "kernelspec": {
   "display_name": "Python 3 (ipykernel)",
   "language": "python",
   "name": "python3"
  },
  "language_info": {
   "codemirror_mode": {
    "name": "ipython",
    "version": 3
   },
   "file_extension": ".py",
   "mimetype": "text/x-python",
   "name": "python",
   "nbconvert_exporter": "python",
   "pygments_lexer": "ipython3",
   "version": "3.9.13"
  }
 },
 "nbformat": 4,
 "nbformat_minor": 5
}
