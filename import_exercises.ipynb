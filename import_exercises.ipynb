{
 "cells": [
  {
   "cell_type": "code",
   "execution_count": 11,
   "id": "524a973a",
   "metadata": {},
   "outputs": [
    {
     "data": {
      "text/plain": [
       "True"
      ]
     },
     "execution_count": 11,
     "metadata": {},
     "output_type": "execute_result"
    }
   ],
   "source": [
    "import functions_exercises as fe\n",
    "\n",
    "fe.is_vowel('a')"
   ]
  },
  {
   "cell_type": "code",
   "execution_count": 13,
   "id": "3aa12d4e",
   "metadata": {},
   "outputs": [
    {
     "data": {
      "text/plain": [
       "24.0"
      ]
     },
     "execution_count": 13,
     "metadata": {},
     "output_type": "execute_result"
    }
   ],
   "source": [
    "from functions_exercises import calculate_tip\n",
    "\n",
    "calculate_tip(.20, 120)"
   ]
  },
  {
   "cell_type": "code",
   "execution_count": 16,
   "id": "81790c9f",
   "metadata": {},
   "outputs": [
    {
     "data": {
      "text/plain": [
       "'A'"
      ]
     },
     "execution_count": 16,
     "metadata": {},
     "output_type": "execute_result"
    }
   ],
   "source": [
    "from functions_exercises import get_letter_grade as lg\n",
    "\n",
    "lg(97)"
   ]
  },
  {
   "cell_type": "code",
   "execution_count": 6,
   "id": "06776716",
   "metadata": {},
   "outputs": [
    {
     "data": {
      "text/plain": [
       "[('A', '1'),\n",
       " ('A', '2'),\n",
       " ('A', '3'),\n",
       " ('B', '1'),\n",
       " ('B', '2'),\n",
       " ('B', '3'),\n",
       " ('C', '1'),\n",
       " ('C', '2'),\n",
       " ('C', '3'),\n",
       " ('D', '1'),\n",
       " ('D', '2'),\n",
       " ('D', '3')]"
      ]
     },
     "execution_count": 6,
     "metadata": {},
     "output_type": "execute_result"
    }
   ],
   "source": [
    "from itertools import product\n",
    "\n",
    "list(product('ABCD', '123'))\n"
   ]
  },
  {
   "cell_type": "code",
   "execution_count": 8,
   "id": "165378a7",
   "metadata": {},
   "outputs": [
    {
     "data": {
      "text/plain": [
       "[('a', 'b'), ('a', 'c'), ('a', 'd'), ('b', 'c'), ('b', 'd'), ('c', 'd')]"
      ]
     },
     "execution_count": 8,
     "metadata": {},
     "output_type": "execute_result"
    }
   ],
   "source": [
    "from itertools import combinations\n",
    "\n",
    "list(combinations('abcd', 2))"
   ]
  },
  {
   "cell_type": "code",
   "execution_count": 9,
   "id": "ca8afa77",
   "metadata": {},
   "outputs": [
    {
     "data": {
      "text/plain": [
       "[('a', 'b'),\n",
       " ('a', 'c'),\n",
       " ('a', 'd'),\n",
       " ('b', 'a'),\n",
       " ('b', 'c'),\n",
       " ('b', 'd'),\n",
       " ('c', 'a'),\n",
       " ('c', 'b'),\n",
       " ('c', 'd'),\n",
       " ('d', 'a'),\n",
       " ('d', 'b'),\n",
       " ('d', 'c')]"
      ]
     },
     "execution_count": 9,
     "metadata": {},
     "output_type": "execute_result"
    }
   ],
   "source": [
    "from itertools import permutations\n",
    "\n",
    "list(permutations('abcd', 2))"
   ]
  },
  {
   "cell_type": "code",
   "execution_count": 42,
   "id": "645580c2",
   "metadata": {},
   "outputs": [
    {
     "name": "stdout",
     "output_type": "stream",
     "text": [
      "19\n"
     ]
    }
   ],
   "source": [
    "import json\n",
    "\n",
    "dict_1 = json.load(open('profiles.json'))\n",
    "\n",
    "print(len(dict_1))"
   ]
  },
  {
   "cell_type": "code",
   "execution_count": 24,
   "id": "e7d8f354",
   "metadata": {},
   "outputs": [
    {
     "name": "stdout",
     "output_type": "stream",
     "text": [
      "9\n"
     ]
    }
   ],
   "source": [
    "num = 0\n",
    "for n in dict_1:\n",
    "    if n['isActive']:\n",
    "        num += 1\n",
    "print(num)"
   ]
  },
  {
   "cell_type": "code",
   "execution_count": 71,
   "id": "05396dbf",
   "metadata": {},
   "outputs": [
    {
     "name": "stdout",
     "output_type": "stream",
     "text": [
      "10\n"
     ]
    }
   ],
   "source": [
    "num = 0\n",
    "for n in dict_1:\n",
    "    if n['isActive'] == False:\n",
    "        num += 1\n",
    "print(num)"
   ]
  },
  {
   "cell_type": "code",
   "execution_count": 33,
   "id": "d091c403",
   "metadata": {},
   "outputs": [
    {
     "name": "stdout",
     "output_type": "stream",
     "text": [
      "52667.02\n"
     ]
    }
   ],
   "source": [
    "total = 0\n",
    "for n in dict_1:\n",
    "    num_str = n['balance']\n",
    "    num_str = handle_commas(num_str)\n",
    "    num_str = num_str.replace('$', '')\n",
    "    num_str = num_str.replace(',', '')\n",
    "    total += float(num_str)\n",
    "    \n",
    "print(total)"
   ]
  },
  {
   "cell_type": "code",
   "execution_count": 68,
   "id": "8307fac0",
   "metadata": {},
   "outputs": [
    {
     "name": "stdout",
     "output_type": "stream",
     "text": [
      "2771.95\n"
     ]
    }
   ],
   "source": [
    "total = 0\n",
    "for n in dict_1:\n",
    "    num_str = n['balance']\n",
    "    num_str = handle_commas(num_str)\n",
    "    num_str = num_str.replace('$', '')\n",
    "    num_str = num_str.replace(',', '')\n",
    "    total += float(num_str)\n",
    "    \n",
    "print(round(total/len(dict_1), 2))"
   ]
  },
  {
   "cell_type": "code",
   "execution_count": 44,
   "id": "08cee227",
   "metadata": {},
   "outputs": [
    {
     "name": "stdout",
     "output_type": "stream",
     "text": [
      "Avery Flynn 1214.1\n"
     ]
    }
   ],
   "source": [
    "lowest = 10000\n",
    "lowest_name = ''\n",
    "\n",
    "for n in dict_1:\n",
    "    num_str = n['balance']\n",
    "    num_str = handle_commas(num_str)\n",
    "    num_str = num_str.replace('$', '')\n",
    "    num = float(num_str.replace(',', ''))\n",
    "    \n",
    "    if num < lowest:\n",
    "        lowest_name = n['name']\n",
    "        lowest = num\n",
    "\n",
    "print(lowest_name, lowest)"
   ]
  },
  {
   "cell_type": "code",
   "execution_count": 45,
   "id": "9d92204a",
   "metadata": {},
   "outputs": [
    {
     "name": "stdout",
     "output_type": "stream",
     "text": [
      "Fay Hammond 3919.64\n"
     ]
    }
   ],
   "source": [
    "highest = 1000\n",
    "highest_name = ''\n",
    "\n",
    "for n in dict_1:\n",
    "    num_str = n['balance']\n",
    "    num_str = handle_commas(num_str)\n",
    "    num_str = num_str.replace('$', '')\n",
    "    num = float(num_str.replace(',', ''))\n",
    "    \n",
    "    if num > highest:\n",
    "        highest_name = n['name']\n",
    "        highest = num\n",
    "\n",
    "print(highest_name, highest)"
   ]
  },
  {
   "cell_type": "code",
   "execution_count": 58,
   "id": "41b4fb1f",
   "metadata": {},
   "outputs": [
    {
     "name": "stdout",
     "output_type": "stream",
     "text": [
      "strawberry: 9 apple: 4 banana: 6\n"
     ]
    }
   ],
   "source": [
    "fruits = [n['favoriteFruit'] for n in dict_1]\n",
    "\n",
    "sb_count = fruits.count('strawberry')\n",
    "ap_count = fruits.count('apple')\n",
    "ba_count = fruits.count('banana')\n",
    "\n",
    "\n",
    "print('strawberry:', sb_count, 'apple:', ap_count, 'banana:', ba_count)"
   ]
  },
  {
   "cell_type": "code",
   "execution_count": 67,
   "id": "9950e6ae",
   "metadata": {},
   "outputs": [
    {
     "name": "stdout",
     "output_type": "stream",
     "text": [
      "210\n"
     ]
    }
   ],
   "source": [
    "greetings = [n['greeting'] for n in dict_1]\n",
    "total = 0\n",
    "\n",
    "for n in greetings:\n",
    "    spot = n.find('unread')\n",
    "    num = n[spot-3:spot]\n",
    "    num = int(num)\n",
    "    total += num\n",
    "\n",
    "print(total)"
   ]
  },
  {
   "cell_type": "code",
   "execution_count": null,
   "id": "a402024a",
   "metadata": {},
   "outputs": [],
   "source": []
  }
 ],
 "metadata": {
  "kernelspec": {
   "display_name": "Python 3 (ipykernel)",
   "language": "python",
   "name": "python3"
  },
  "language_info": {
   "codemirror_mode": {
    "name": "ipython",
    "version": 3
   },
   "file_extension": ".py",
   "mimetype": "text/x-python",
   "name": "python",
   "nbconvert_exporter": "python",
   "pygments_lexer": "ipython3",
   "version": "3.9.13"
  }
 },
 "nbformat": 4,
 "nbformat_minor": 5
}
